{
 "cells": [
  {
   "cell_type": "markdown",
   "metadata": {},
   "source": [
    "# A Curious Case\n",
    "\n",
    "Arvindh gave me the following code yesterday. At first glance, what do you think it does?"
   ]
  },
  {
   "cell_type": "markdown",
   "metadata": {},
   "source": [
    "You may need to build with make LDFLAGS=\"-L/opt/homebrew/opt/gettext/lib -lintl\""
   ]
  },
  {
   "cell_type": "code",
   "execution_count": 4,
   "metadata": {},
   "outputs": [
    {
     "name": "stdout",
     "output_type": "stream",
     "text": [
      "Exception! 'tuple' object does not support item assignment\n",
      "(1, 2, [30, 40, 50, 60])\n"
     ]
    }
   ],
   "source": [
    "\n",
    "x = (1, 2, [30, 40])\n",
    "try:\n",
    "    x[2] += [50, 60]\n",
    "except Exception as e:\n",
    "    print(\"Exception! \" + str(e))\n",
    "    pass\n",
    "print(x)"
   ]
  },
  {
   "cell_type": "markdown",
   "metadata": {},
   "source": [
    "It may be hard to guess that the code both performs the array addition at `x[2]` AND throws an error. \n",
    "\n",
    "Why is that?\n",
    "\n",
    "Let's look at the following bytecode:"
   ]
  },
  {
   "cell_type": "code",
   "execution_count": 8,
   "metadata": {},
   "outputs": [
    {
     "name": "stdout",
     "output_type": "stream",
     "text": [
      "Error! 'tuple' object does not support item assignment\n",
      "(1, 2, [30, 40, 50, 60])\n"
     ]
    }
   ],
   "source": [
    "from bytecode import Bytecode, Instr\n",
    "\n",
    "bytecode = Bytecode([\n",
    "    Instr(\"LOAD_CONST\", 1),\n",
    "    Instr(\"LOAD_CONST\", 2),\n",
    "    Instr(\"LOAD_CONST\", 30),\n",
    "    Instr(\"LOAD_CONST\", 40),\n",
    "    Instr(\"BUILD_LIST\", 2),\n",
    "    Instr(\"BUILD_TUPLE\", 3),\n",
    "    Instr(\"STORE_NAME\", \"t\"),\n",
    "    Instr(\"LOAD_NAME\", \"t\"),\n",
    "    Instr(\"LOAD_CONST\", 2),\n",
    "    Instr(\"COPY\", 2),\n",
    "    Instr(\"COPY\", 2),\n",
    "    Instr(\"BINARY_SUBSCR\"),\n",
    "    Instr(\"LOAD_CONST\", 50),\n",
    "    Instr(\"LOAD_CONST\", 60),\n",
    "    Instr(\"BUILD_LIST\", 2),\n",
    "    Instr(\"BINARY_OP\", 13),  # 13 represents '+='\n",
    "    Instr(\"SWAP\", 3),\n",
    "    Instr(\"SWAP\", 2),\n",
    "    Instr(\"STORE_SUBSCR\"),\n",
    "    Instr(\"RETURN_CONST\", None)\n",
    "])\n",
    "\n",
    "try:\n",
    "    print(eval(bytecode.to_code()))\n",
    "except Exception as e:\n",
    "    print(\"Error! \" + str(e))\n",
    "print(x)"
   ]
  },
  {
   "cell_type": "markdown",
   "metadata": {},
   "source": [
    "It looks like the array is concatenated with the `BUILD_LIST` opcode, then swapped back into the tuple with `STORE_SUBSCR`. `STORE_SUBSCR` is the instruction that throws the error, as a tuple's elements cannot be re-assigned.\n",
    "\n",
    "What if we remove STORE_SUBSCR?"
   ]
  },
  {
   "cell_type": "code",
   "execution_count": 9,
   "metadata": {},
   "outputs": [
    {
     "name": "stdout",
     "output_type": "stream",
     "text": [
      "None\n",
      "No error!\n",
      "(1, 2, [30, 40, 50, 60])\n"
     ]
    }
   ],
   "source": [
    "from bytecode import Bytecode, Instr\n",
    "\n",
    "bytecode = Bytecode([\n",
    "    Instr(\"LOAD_CONST\", 1),\n",
    "    Instr(\"LOAD_CONST\", 2),\n",
    "    Instr(\"LOAD_CONST\", 30),\n",
    "    Instr(\"LOAD_CONST\", 40),\n",
    "    Instr(\"BUILD_LIST\", 2),\n",
    "    Instr(\"BUILD_TUPLE\", 3),\n",
    "    Instr(\"STORE_NAME\", \"t\"),\n",
    "    Instr(\"LOAD_NAME\", \"t\"),\n",
    "    Instr(\"LOAD_CONST\", 2),\n",
    "    Instr(\"COPY\", 2),\n",
    "    Instr(\"COPY\", 2),\n",
    "    Instr(\"BINARY_SUBSCR\"),\n",
    "    Instr(\"LOAD_CONST\", 50),\n",
    "    Instr(\"LOAD_CONST\", 60),\n",
    "    Instr(\"BUILD_LIST\", 2),\n",
    "    Instr(\"BINARY_OP\", 13),  # 13 represents '+='\n",
    "    Instr(\"SWAP\", 3),\n",
    "    Instr(\"SWAP\", 2),\n",
    "    Instr(\"RETURN_CONST\", None)\n",
    "])\n",
    "\n",
    "try:\n",
    "    print(eval(bytecode.to_code()))\n",
    "    print(\"No error!\")\n",
    "except Exception as e:\n",
    "    print(\"Error! \" + str(e))\n",
    "print(x)"
   ]
  },
  {
   "cell_type": "markdown",
   "metadata": {},
   "source": [
    "Now, the code works - error free!"
   ]
  }
 ],
 "metadata": {
  "kernelspec": {
   "display_name": "Python 3",
   "language": "python",
   "name": "python3"
  },
  "language_info": {
   "codemirror_mode": {
    "name": "ipython",
    "version": 3
   },
   "file_extension": ".py",
   "mimetype": "text/x-python",
   "name": "python",
   "nbconvert_exporter": "python",
   "pygments_lexer": "ipython3",
   "version": "3.12.6"
  }
 },
 "nbformat": 4,
 "nbformat_minor": 2
}
