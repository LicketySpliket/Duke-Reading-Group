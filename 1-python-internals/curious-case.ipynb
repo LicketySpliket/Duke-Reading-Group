{
 "cells": [
  {
   "cell_type": "code",
   "execution_count": 4,
   "metadata": {},
   "outputs": [
    {
     "name": "stdout",
     "output_type": "stream",
     "text": [
      "Exception! 'tuple' object does not support item assignment\n",
      "(1, 2, [30, 40, 50, 60])\n"
     ]
    }
   ],
   "source": [
    "\n",
    "x = (1, 2, [30, 40])\n",
    "try:\n",
    "    x[2] += [50, 60]\n",
    "except Exception as e:\n",
    "    print(\"Exception! \" + str(e))\n",
    "    pass\n",
    "print(x)"
   ]
  },
  {
   "cell_type": "code",
   "execution_count": null,
   "metadata": {},
   "outputs": [],
   "source": [
    "from bytecode import Bytecode, Instr\n",
    "\n",
    "bytecode = Bytecode([\n",
    "    Instr(\"LOAD_CONST\", 1),\n",
    "    Instr(\"LOAD_CONST\", 2),\n",
    "    Instr(\"LOAD_CONST\", 30),\n",
    "    Instr(\"LOAD_CONST\", 40),\n",
    "    Instr(\"BUILD_LIST\", 2),\n",
    "    Instr(\"BUILD_TUPLE\", 3),\n",
    "    Instr(\"STORE_NAME\", \"t\"),\n",
    "    Instr(\"LOAD_NAME\", \"t\"),\n",
    "    Instr(\"LOAD_CONST\", 2),\n",
    "    Instr(\"COPY\", 2),\n",
    "    Instr(\"COPY\", 2),\n",
    "    Instr(\"BINARY_SUBSCR\"),\n",
    "    Instr(\"LOAD_CONST\", 50),\n",
    "    Instr(\"LOAD_CONST\", 60),\n",
    "    Instr(\"BUILD_LIST\", 2),\n",
    "    Instr(\"BINARY_OP\", 13),  # 13 represents '+='\n",
    "    Instr(\"SWAP\", 3),\n",
    "    Instr(\"SWAP\", 2),\n",
    "    Instr(\"STORE_SUBSCR\"),\n",
    "    Instr(\"RETURN_CONST\", None)\n",
    "])\n",
    "\n",
    "print(eval(bytecode.to_code()))"
   ]
  },
  {
   "cell_type": "markdown",
   "metadata": {},
   "source": [
    "You may need to build with make LDFLAGS=\"-L/opt/homebrew/opt/gettext/lib -lintl\""
   ]
  }
 ],
 "metadata": {
  "kernelspec": {
   "display_name": "Python 3",
   "language": "python",
   "name": "python3"
  },
  "language_info": {
   "codemirror_mode": {
    "name": "ipython",
    "version": 3
   },
   "file_extension": ".py",
   "mimetype": "text/x-python",
   "name": "python",
   "nbconvert_exporter": "python",
   "pygments_lexer": "ipython3",
   "version": "3.12.6"
  }
 },
 "nbformat": 4,
 "nbformat_minor": 2
}
