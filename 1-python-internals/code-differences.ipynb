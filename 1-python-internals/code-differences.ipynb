{
 "cells": [
  {
   "cell_type": "markdown",
   "metadata": {},
   "source": [
    "# Code Inside/Outside of a Function"
   ]
  },
  {
   "cell_type": "code",
   "execution_count": 18,
   "metadata": {},
   "outputs": [
    {
     "name": "stdout",
     "output_type": "stream",
     "text": [
      "(Global Version) 0.568s taken, result: 49999995000000\n",
      "(Function Version) 0.244s taken, result: 49999995000000\n"
     ]
    }
   ],
   "source": [
    "import time\n",
    "\n",
    "start_time = time.time()\n",
    "z = 0\n",
    "for i in range(0, 10_000_000):\n",
    "    z += i\n",
    "print(f\"(Global Version) {round(time.time() - start_time, 3)}s taken, result: {z}\")\n",
    "\n",
    "\n",
    "def do():\n",
    "    z = 0\n",
    "    for i in range(0, 10_000_000):\n",
    "        z += i\n",
    "\n",
    "\n",
    "start_time = time.time()\n",
    "do()\n",
    "print(f\"(Function Version) {round(time.time() - start_time, 3)}s taken, result: {z}\")"
   ]
  },
  {
   "cell_type": "markdown",
   "metadata": {},
   "source": [
    "You will notice that the identical code inside a function runs faster than the identical code outside the function (in the global scope)."
   ]
  },
  {
   "cell_type": "markdown",
   "metadata": {},
   "source": [
    "### Bytecode Analysis\n",
    "\n",
    "Let's analyze the differences in the disassembly between the two."
   ]
  },
  {
   "cell_type": "code",
   "execution_count": 5,
   "metadata": {},
   "outputs": [
    {
     "name": "stdout",
     "output_type": "stream",
     "text": [
      "  0           0 RESUME                   0\n",
      "\n",
      "  2           2 LOAD_CONST               0 (0)\n",
      "              4 STORE_NAME               0 (z)\n",
      "\n",
      "  3           6 PUSH_NULL\n",
      "              8 LOAD_NAME                1 (range)\n",
      "             10 LOAD_CONST               0 (0)\n",
      "             12 LOAD_CONST               1 (10000000)\n",
      "             14 CALL                     2\n",
      "             22 GET_ITER\n",
      "        >>   24 FOR_ITER                 7 (to 42)\n",
      "             28 STORE_NAME               2 (i)\n",
      "\n",
      "  4          30 LOAD_NAME                0 (z)\n",
      "             32 LOAD_NAME                2 (i)\n",
      "             34 BINARY_OP               13 (+=)\n",
      "             38 STORE_NAME               0 (z)\n",
      "             40 JUMP_BACKWARD            9 (to 24)\n",
      "\n",
      "  3     >>   42 END_FOR\n",
      "             44 RETURN_CONST             2 (None)\n",
      "None\n"
     ]
    }
   ],
   "source": [
    "import dis\n",
    "\n",
    "print(dis.dis(\"\"\"\n",
    "z = 0\n",
    "for i in range(0, 10_000_000):\n",
    "    z += i\n",
    "\"\"\"))"
   ]
  },
  {
   "cell_type": "code",
   "execution_count": 2,
   "metadata": {},
   "outputs": [
    {
     "name": "stdout",
     "output_type": "stream",
     "text": [
      "  0           0 RESUME                   0\n",
      "\n",
      "  2           2 LOAD_CONST               0 (<code object do at 0x107425230, file \"<dis>\", line 2>)\n",
      "              4 MAKE_FUNCTION            0\n",
      "              6 STORE_NAME               0 (do)\n",
      "              8 RETURN_CONST             1 (None)\n",
      "\n",
      "Disassembly of <code object do at 0x107425230, file \"<dis>\", line 2>:\n",
      "  2           0 RESUME                   0\n",
      "\n",
      "  3           2 LOAD_CONST               1 (0)\n",
      "              4 STORE_FAST               0 (z)\n",
      "\n",
      "  4           6 LOAD_GLOBAL              1 (NULL + range)\n",
      "             16 LOAD_CONST               1 (0)\n",
      "             18 LOAD_CONST               2 (10000000)\n",
      "             20 CALL                     2\n",
      "             28 GET_ITER\n",
      "        >>   30 FOR_ITER                 7 (to 48)\n",
      "             34 STORE_FAST               1 (i)\n",
      "\n",
      "  5          36 LOAD_FAST                0 (z)\n",
      "             38 LOAD_FAST                1 (i)\n",
      "             40 BINARY_OP               13 (+=)\n",
      "             44 STORE_FAST               0 (z)\n",
      "             46 JUMP_BACKWARD            9 (to 30)\n",
      "\n",
      "  4     >>   48 END_FOR\n",
      "             50 RETURN_CONST             0 (None)\n",
      "None\n"
     ]
    }
   ],
   "source": [
    "import dis\n",
    "\n",
    "print(dis.dis(\"\"\"\n",
    "def do():\n",
    "    z = 0\n",
    "    for i in range(0, 10_000_000):\n",
    "        z += i    \n",
    "\"\"\"))"
   ]
  },
  {
   "cell_type": "markdown",
   "metadata": {},
   "source": [
    "Notably, please realize that the hot-loop of the code uses `LOAD_NAME` in the global version and `LOAD_FAST` in the function version."
   ]
  },
  {
   "cell_type": "markdown",
   "metadata": {},
   "source": [
    "# Import Syntax"
   ]
  },
  {
   "cell_type": "code",
   "execution_count": 16,
   "metadata": {},
   "outputs": [
    {
     "name": "stdout",
     "output_type": "stream",
     "text": [
      "(math.sin Version) 7.414s taken, result: 84147098.6234422\n",
      "(Function Version) 8.015s taken, result: 84147098.6234422\n"
     ]
    }
   ],
   "source": [
    "import math\n",
    "import time\n",
    "\n",
    "start_time = time.time()\n",
    "z = 0\n",
    "for i in range(0, 100_000_000):\n",
    "    z += math.sin(1)\n",
    "print(f\"(math.sin Version) {\n",
    "      round(time.time() - start_time, 3)}s taken, result: {z}\")\n",
    "\n",
    "from math import sin\n",
    "start_time = time.time()\n",
    "z = 0\n",
    "for i in range(0, 100_000_000):\n",
    "    z += sin(1)\n",
    "\n",
    "\n",
    "print(f\"(Function Version) {\n",
    "      round(time.time() - start_time, 3)}s taken, result: {z}\")\n"
   ]
  },
  {
   "cell_type": "code",
   "execution_count": null,
   "metadata": {},
   "outputs": [],
   "source": []
  },
  {
   "cell_type": "markdown",
   "metadata": {},
   "source": [
    "## Bytecode Analysis\n",
    "\n",
    "Let's again analyze the differences in the disassembly here."
   ]
  },
  {
   "cell_type": "code",
   "execution_count": 10,
   "metadata": {},
   "outputs": [
    {
     "name": "stdout",
     "output_type": "stream",
     "text": [
      "  0           0 RESUME                   0\n",
      "\n",
      "  2           2 LOAD_CONST               0 (0)\n",
      "              4 LOAD_CONST               1 (None)\n",
      "              6 IMPORT_NAME              0 (math)\n",
      "              8 STORE_NAME               0 (math)\n",
      "\n",
      "  3          10 PUSH_NULL\n",
      "             12 LOAD_NAME                1 (range)\n",
      "             14 LOAD_CONST               0 (0)\n",
      "             16 LOAD_CONST               2 (100000000)\n",
      "             18 CALL                     2\n",
      "             26 GET_ITER\n",
      "        >>   28 FOR_ITER                23 (to 78)\n",
      "             32 STORE_NAME               2 (i)\n",
      "\n",
      "  4          34 LOAD_NAME                3 (z)\n",
      "             36 PUSH_NULL\n",
      "             38 LOAD_NAME                0 (math)\n",
      "             40 LOAD_ATTR                8 (sin)\n",
      "             60 LOAD_CONST               3 (1)\n",
      "             62 CALL                     1\n",
      "             70 BINARY_OP               13 (+=)\n",
      "             74 STORE_NAME               3 (z)\n",
      "             76 JUMP_BACKWARD           25 (to 28)\n",
      "\n",
      "  3     >>   78 END_FOR\n",
      "             80 RETURN_CONST             1 (None)\n",
      "None\n",
      "  0           0 RESUME                   0\n",
      "\n",
      "  2           2 LOAD_CONST               0 (0)\n",
      "              4 LOAD_CONST               1 (('sin',))\n",
      "              6 IMPORT_NAME              0 (math)\n",
      "              8 IMPORT_FROM              1 (sin)\n",
      "             10 STORE_NAME               1 (sin)\n",
      "             12 POP_TOP\n",
      "\n",
      "  3          14 PUSH_NULL\n",
      "             16 LOAD_NAME                2 (range)\n",
      "             18 LOAD_CONST               0 (0)\n",
      "             20 LOAD_CONST               2 (100000000)\n",
      "             22 CALL                     2\n",
      "             30 GET_ITER\n",
      "        >>   32 FOR_ITER                13 (to 62)\n",
      "             36 STORE_NAME               3 (i)\n",
      "\n",
      "  4          38 LOAD_NAME                4 (z)\n",
      "             40 PUSH_NULL\n",
      "             42 LOAD_NAME                1 (sin)\n",
      "             44 LOAD_CONST               3 (1)\n",
      "             46 CALL                     1\n",
      "             54 BINARY_OP               13 (+=)\n",
      "             58 STORE_NAME               4 (z)\n",
      "             60 JUMP_BACKWARD           15 (to 32)\n",
      "\n",
      "  3     >>   62 END_FOR\n",
      "             64 RETURN_CONST             4 (None)\n",
      "None\n"
     ]
    }
   ],
   "source": [
    "import dis\n",
    "\n",
    "print(dis.dis(\"\"\"\n",
    "import math\n",
    "for i in range(0, 100_000_000):\n",
    "    z += math.sin(1)\"\"\"))\n"
   ]
  },
  {
   "cell_type": "code",
   "execution_count": 11,
   "metadata": {},
   "outputs": [
    {
     "name": "stdout",
     "output_type": "stream",
     "text": [
      "  0           0 RESUME                   0\n",
      "\n",
      "  2           2 LOAD_CONST               0 (0)\n",
      "              4 LOAD_CONST               1 (('sin',))\n",
      "              6 IMPORT_NAME              0 (math)\n",
      "              8 IMPORT_FROM              1 (sin)\n",
      "             10 STORE_NAME               1 (sin)\n",
      "             12 POP_TOP\n",
      "\n",
      "  3          14 PUSH_NULL\n",
      "             16 LOAD_NAME                2 (range)\n",
      "             18 LOAD_CONST               0 (0)\n",
      "             20 LOAD_CONST               2 (100000000)\n",
      "             22 CALL                     2\n",
      "             30 GET_ITER\n",
      "        >>   32 FOR_ITER                13 (to 62)\n",
      "             36 STORE_NAME               3 (i)\n",
      "\n",
      "  4          38 LOAD_NAME                4 (z)\n",
      "             40 PUSH_NULL\n",
      "             42 LOAD_NAME                1 (sin)\n",
      "             44 LOAD_CONST               3 (1)\n",
      "             46 CALL                     1\n",
      "             54 BINARY_OP               13 (+=)\n",
      "             58 STORE_NAME               4 (z)\n",
      "             60 JUMP_BACKWARD           15 (to 32)\n",
      "\n",
      "  3     >>   62 END_FOR\n",
      "             64 RETURN_CONST             4 (None)\n",
      "None\n"
     ]
    }
   ],
   "source": [
    "import dis\n",
    "\n",
    "print(dis.dis(\"\"\"\n",
    "from math import sin\n",
    "for i in range(0, 100_000_000):\n",
    "    z += sin(1)\"\"\"))"
   ]
  },
  {
   "cell_type": "code",
   "execution_count": null,
   "metadata": {},
   "outputs": [],
   "source": []
  },
  {
   "cell_type": "markdown",
   "metadata": {},
   "source": [
    "Notice that the `math.sin` calls `LOAD_NAME` on `math` then `LOAD_ATTR` ON `sin`."
   ]
  },
  {
   "cell_type": "code",
   "execution_count": null,
   "metadata": {},
   "outputs": [],
   "source": []
  },
  {
   "cell_type": "markdown",
   "metadata": {},
   "source": [
    "# For Loop Semantics"
   ]
  },
  {
   "cell_type": "code",
   "execution_count": 17,
   "metadata": {},
   "outputs": [
    {
     "name": "stdout",
     "output_type": "stream",
     "text": [
      "(List Comprehension) 0.292s taken, result: 19999998\n",
      "(For Loop) 0.522s taken, result: 19999998\n"
     ]
    }
   ],
   "source": [
    "import time\n",
    "\n",
    "start_time = time.time()\n",
    "result = [x * 2 for x in range(0, 10_000_000)]\n",
    "print(f\"(List Comprehension) {\n",
    "      round(time.time() - start_time, 3)}s taken, result: {result[-1]}\")\n",
    "\n",
    "# Example 2: Loop\n",
    "start_time = time.time()\n",
    "result = []\n",
    "for x in range(0, 10_000_000):\n",
    "    result.append(x * 2)\n",
    "print(f\"(For Loop) {round(time.time() - start_time, 3)\n",
    "                    }s taken, result: {result[-1]}\")"
   ]
  },
  {
   "cell_type": "markdown",
   "metadata": {},
   "source": [
    "## Bytecode Analysis\n",
    "\n",
    "Let's once again ... you guessed it ... look at the bytecode."
   ]
  },
  {
   "cell_type": "code",
   "execution_count": 14,
   "metadata": {},
   "outputs": [
    {
     "name": "stdout",
     "output_type": "stream",
     "text": [
      "  0           0 RESUME                   0\n",
      "\n",
      "  1           2 PUSH_NULL\n",
      "              4 LOAD_NAME                0 (range)\n",
      "              6 LOAD_CONST               0 (0)\n",
      "              8 LOAD_CONST               1 (10000000)\n",
      "             10 CALL                     2\n",
      "             18 GET_ITER\n",
      "             20 LOAD_FAST_AND_CLEAR      0 (x)\n",
      "             22 SWAP                     2\n",
      "             24 BUILD_LIST               0\n",
      "             26 SWAP                     2\n",
      "        >>   28 FOR_ITER                 7 (to 46)\n",
      "             32 STORE_FAST               0 (x)\n",
      "             34 LOAD_FAST                0 (x)\n",
      "             36 LOAD_CONST               2 (2)\n",
      "             38 BINARY_OP                5 (*)\n",
      "             42 LIST_APPEND              2\n",
      "             44 JUMP_BACKWARD            9 (to 28)\n",
      "        >>   46 END_FOR\n",
      "             48 SWAP                     2\n",
      "             50 STORE_FAST               0 (x)\n",
      "             52 STORE_NAME               1 (result)\n",
      "             54 RETURN_CONST             3 (None)\n",
      "        >>   56 SWAP                     2\n",
      "             58 POP_TOP\n",
      "             60 SWAP                     2\n",
      "             62 STORE_FAST               0 (x)\n",
      "             64 RERAISE                  0\n",
      "ExceptionTable:\n",
      "  24 to 46 -> 56 [2]\n",
      "None\n"
     ]
    }
   ],
   "source": [
    "import dis\n",
    "\n",
    "print(dis.dis(\"\"\"result = [x * 2 for x in range(0, 10_000_000)]\"\"\"))"
   ]
  },
  {
   "cell_type": "code",
   "execution_count": 13,
   "metadata": {},
   "outputs": [
    {
     "name": "stdout",
     "output_type": "stream",
     "text": [
      "  0           0 RESUME                   0\n",
      "\n",
      "  2           2 BUILD_LIST               0\n",
      "              4 STORE_NAME               0 (result)\n",
      "\n",
      "  3           6 PUSH_NULL\n",
      "              8 LOAD_NAME                1 (range)\n",
      "             10 LOAD_CONST               0 (0)\n",
      "             12 LOAD_CONST               1 (10000000)\n",
      "             14 CALL                     2\n",
      "             22 GET_ITER\n",
      "        >>   24 FOR_ITER                22 (to 72)\n",
      "             28 STORE_NAME               2 (x)\n",
      "\n",
      "  4          30 LOAD_NAME                0 (result)\n",
      "             32 LOAD_ATTR                7 (NULL|self + append)\n",
      "             52 LOAD_NAME                2 (x)\n",
      "             54 LOAD_CONST               2 (2)\n",
      "             56 BINARY_OP                5 (*)\n",
      "             60 CALL                     1\n",
      "             68 POP_TOP\n",
      "             70 JUMP_BACKWARD           24 (to 24)\n",
      "\n",
      "  3     >>   72 END_FOR\n",
      "             74 RETURN_CONST             3 (None)\n",
      "None\n"
     ]
    }
   ],
   "source": [
    "import dis\n",
    "\n",
    "print(dis.dis(\"\"\"\n",
    "result = []\n",
    "for x in range(0, 10_000_000):\n",
    "    result.append(x * 2)\"\"\"))"
   ]
  },
  {
   "cell_type": "code",
   "execution_count": null,
   "metadata": {},
   "outputs": [],
   "source": []
  },
  {
   "cell_type": "markdown",
   "metadata": {},
   "source": [
    "The for loop calls `LOAD_ATTR`, then `CALL`, which is less efficient than the implicit `LIST_APPEND`."
   ]
  }
 ],
 "metadata": {
  "kernelspec": {
   "display_name": "Python 3",
   "language": "python",
   "name": "python3"
  },
  "language_info": {
   "codemirror_mode": {
    "name": "ipython",
    "version": 3
   },
   "file_extension": ".py",
   "mimetype": "text/x-python",
   "name": "python",
   "nbconvert_exporter": "python",
   "pygments_lexer": "ipython3",
   "version": "3.12.6"
  }
 },
 "nbformat": 4,
 "nbformat_minor": 2
}
